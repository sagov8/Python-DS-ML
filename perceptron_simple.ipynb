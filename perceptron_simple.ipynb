{
  "nbformat": 4,
  "nbformat_minor": 0,
  "metadata": {
    "colab": {
      "name": "perceptron_simple.ipynb",
      "provenance": [],
      "collapsed_sections": [],
      "authorship_tag": "ABX9TyMCQrLWNalglnLJ67I0WcIc",
      "include_colab_link": true
    },
    "kernelspec": {
      "name": "python3",
      "display_name": "Python 3"
    },
    "language_info": {
      "name": "python"
    }
  },
  "cells": [
    {
      "cell_type": "markdown",
      "metadata": {
        "id": "view-in-github",
        "colab_type": "text"
      },
      "source": [
        "<a href=\"https://colab.research.google.com/github/sagov8/Python-DS-ML/blob/master/perceptron_simple.ipynb\" target=\"_parent\"><img src=\"https://colab.research.google.com/assets/colab-badge.svg\" alt=\"Open In Colab\"/></a>"
      ]
    },
    {
      "cell_type": "code",
      "metadata": {
        "id": "Yv7AwpdqxJlm"
      },
      "source": [
        "import numpy as np\n",
        "import matplotlib.pyplot as plt"
      ],
      "execution_count": 6,
      "outputs": []
    },
    {
      "cell_type": "code",
      "metadata": {
        "id": "58ZEt_Jxy1xz"
      },
      "source": [
        "inputs = np.array([[0, 0],[0, 1],[1, 0],[1, 1]])\n",
        "y = np.array([[0],[0],[0],[1]])"
      ],
      "execution_count": 7,
      "outputs": []
    },
    {
      "cell_type": "code",
      "metadata": {
        "id": "T0-RHAmPVEdW"
      },
      "source": [
        "pesos = np.random.normal(scale = 0.5, size=(2,1))"
      ],
      "execution_count": 9,
      "outputs": []
    },
    {
      "cell_type": "code",
      "metadata": {
        "colab": {
          "base_uri": "https://localhost:8080/"
        },
        "id": "ZWRkRngXat5h",
        "outputId": "b5fb2136-6897-48d5-e626-f30f42d04285"
      },
      "source": [
        "output = np.dot(inputs, pesos)\n",
        "print(output)"
      ],
      "execution_count": 10,
      "outputs": [
        {
          "output_type": "stream",
          "text": [
            "[[ 0.        ]\n",
            " [-0.38706443]\n",
            " [-0.08095776]\n",
            " [-0.46802219]]\n"
          ],
          "name": "stdout"
        }
      ]
    }
  ]
}